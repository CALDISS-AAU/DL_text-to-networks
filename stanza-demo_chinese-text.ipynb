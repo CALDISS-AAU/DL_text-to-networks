{
 "cells": [
  {
   "cell_type": "markdown",
   "metadata": {},
   "source": [
    "Chinese stopwords: https://github.com/stopwords-iso/stopwords-zh"
   ]
  },
  {
   "cell_type": "markdown",
   "metadata": {},
   "source": [
    "# Using `stanza` on Weibo posts\n",
    "\n",
    "This notebooks demonstrates some of the features of the NLP package `stanza`: https://stanfordnlp.github.io/stanza/pipeline.html \n",
    "\n",
    "The notebooks uses the Weibo posts from December 2019 about COVID-19: https://github.com/nghuyong/weibo-public-opinion-datasets "
   ]
  },
  {
   "cell_type": "markdown",
   "metadata": {},
   "source": [
    "## Packages and installing chinese language model\n",
    "\n",
    "For this notebook, `pandas`, `seaborn` and `stanza` is used.\n",
    "\n",
    "`stanza` has a series of language models: https://stanfordnlp.github.io/stanza/available_models.html \n",
    "\n",
    "These can be downloaded using `stanza.download()`. After downloading, the model can be used in a NLP pipeline."
   ]
  },
  {
   "cell_type": "code",
   "execution_count": 36,
   "metadata": {},
   "outputs": [],
   "source": [
    "import pandas as pd # For data handling\n",
    "import seaborn as sns # For visualization\n",
    "import stanza # For NLP\n",
    "import numpy as np # Arithmetic operations\n",
    "\n",
    "stanza.download('zh') # Downloads the language model"
   ]
  },
  {
   "cell_type": "markdown",
   "metadata": {},
   "source": [
    "## Loading the data\n",
    "\n",
    "Data is loaded as a pandas dataframe:"
   ]
  },
  {
   "cell_type": "code",
   "execution_count": 37,
   "metadata": {},
   "outputs": [
    {
     "data": {
      "text/html": [
       "<div>\n",
       "<style scoped>\n",
       "    .dataframe tbody tr th:only-of-type {\n",
       "        vertical-align: middle;\n",
       "    }\n",
       "\n",
       "    .dataframe tbody tr th {\n",
       "        vertical-align: top;\n",
       "    }\n",
       "\n",
       "    .dataframe thead th {\n",
       "        text-align: right;\n",
       "    }\n",
       "</style>\n",
       "<table border=\"1\" class=\"dataframe\">\n",
       "  <thead>\n",
       "    <tr style=\"text-align: right;\">\n",
       "      <th></th>\n",
       "      <th>_id</th>\n",
       "      <th>crawl_time</th>\n",
       "      <th>created_at</th>\n",
       "      <th>like_num</th>\n",
       "      <th>repost_num</th>\n",
       "      <th>comment_num</th>\n",
       "      <th>content</th>\n",
       "      <th>origin_weibo</th>\n",
       "      <th>location_map_info</th>\n",
       "    </tr>\n",
       "  </thead>\n",
       "  <tbody>\n",
       "    <tr>\n",
       "      <th>0</th>\n",
       "      <td>IiF4ShXQZ</td>\n",
       "      <td>1587604890</td>\n",
       "      <td>2019-12-01 00:00:17</td>\n",
       "      <td>1</td>\n",
       "      <td>0</td>\n",
       "      <td>0</td>\n",
       "      <td>《药品管理法》《疫苗管理法》👏👏</td>\n",
       "      <td>NaN</td>\n",
       "      <td>NaN</td>\n",
       "    </tr>\n",
       "    <tr>\n",
       "      <th>1</th>\n",
       "      <td>IiF5S5tKi</td>\n",
       "      <td>1587968450</td>\n",
       "      <td>2019-12-01 00:02:44</td>\n",
       "      <td>1</td>\n",
       "      <td>0</td>\n",
       "      <td>0</td>\n",
       "      <td>[微风]今日  周六   大风 第三天   打疫苗 实测体重2.6公斤</td>\n",
       "      <td>NaN</td>\n",
       "      <td>NaN</td>\n",
       "    </tr>\n",
       "    <tr>\n",
       "      <th>2</th>\n",
       "      <td>IiF6Zcfr3</td>\n",
       "      <td>1587968119</td>\n",
       "      <td>2019-12-01 00:05:29</td>\n",
       "      <td>0</td>\n",
       "      <td>0</td>\n",
       "      <td>0</td>\n",
       "      <td>明天新的《中华人民共和国药品管理法》和《疫苗管理法》就实行了。  友情提醒：虽然第九十八条把...</td>\n",
       "      <td>IiEEaDOkW</td>\n",
       "      <td>NaN</td>\n",
       "    </tr>\n",
       "    <tr>\n",
       "      <th>3</th>\n",
       "      <td>IiF75FUT4</td>\n",
       "      <td>1587895953</td>\n",
       "      <td>2019-12-01 00:05:45</td>\n",
       "      <td>0</td>\n",
       "      <td>0</td>\n",
       "      <td>0</td>\n",
       "      <td>持续不断否定自己 变得一点信心也没有 对自己否定 对生活否定 对一切都怀疑 今天压力真的大到...</td>\n",
       "      <td>NaN</td>\n",
       "      <td>NaN</td>\n",
       "    </tr>\n",
       "    <tr>\n",
       "      <th>4</th>\n",
       "      <td>IiF84inVj</td>\n",
       "      <td>1587964711</td>\n",
       "      <td>2019-12-01 00:08:09</td>\n",
       "      <td>0</td>\n",
       "      <td>0</td>\n",
       "      <td>0</td>\n",
       "      <td>央视新闻频道，正在播出宇芽家暴的专题采访。  这个专题之前是高以翔事件的报道。 转发理由:看...</td>\n",
       "      <td>IiEBvb90s</td>\n",
       "      <td>NaN</td>\n",
       "    </tr>\n",
       "  </tbody>\n",
       "</table>\n",
       "</div>"
      ],
      "text/plain": [
       "         _id  crawl_time           created_at  like_num  repost_num  \\\n",
       "0  IiF4ShXQZ  1587604890  2019-12-01 00:00:17         1           0   \n",
       "1  IiF5S5tKi  1587968450  2019-12-01 00:02:44         1           0   \n",
       "2  IiF6Zcfr3  1587968119  2019-12-01 00:05:29         0           0   \n",
       "3  IiF75FUT4  1587895953  2019-12-01 00:05:45         0           0   \n",
       "4  IiF84inVj  1587964711  2019-12-01 00:08:09         0           0   \n",
       "\n",
       "   comment_num                                            content  \\\n",
       "0            0                                   《药品管理法》《疫苗管理法》👏👏   \n",
       "1            0                [微风]今日  周六   大风 第三天   打疫苗 实测体重2.6公斤   \n",
       "2            0  明天新的《中华人民共和国药品管理法》和《疫苗管理法》就实行了。  友情提醒：虽然第九十八条把...   \n",
       "3            0  持续不断否定自己 变得一点信心也没有 对自己否定 对生活否定 对一切都怀疑 今天压力真的大到...   \n",
       "4            0  央视新闻频道，正在播出宇芽家暴的专题采访。  这个专题之前是高以翔事件的报道。 转发理由:看...   \n",
       "\n",
       "  origin_weibo location_map_info  \n",
       "0          NaN               NaN  \n",
       "1          NaN               NaN  \n",
       "2    IiEEaDOkW               NaN  \n",
       "3          NaN               NaN  \n",
       "4    IiEBvb90s               NaN  "
      ]
     },
     "execution_count": 37,
     "metadata": {},
     "output_type": "execute_result"
    }
   ],
   "source": [
    "weibo_df = pd.read_csv(\"C:/Users/kgk/OneDrive - Aalborg Universitet/CALDISS_projects/digital-literacy_E20/text-networks/data/2019-12.csv\")\n",
    "\n",
    "weibo_df.head()"
   ]
  },
  {
   "cell_type": "markdown",
   "metadata": {},
   "source": [
    "### Subsetting the data\n",
    "\n",
    "The data set is pretty massive, so running the tokenization and sentiment analysis will take a while on a standard laptop or computer.\n",
    "\n",
    "Therefore this notebook used a random sample of 500 posts, filtered by length (less than 100 characters) and by having between 1 and 100 likes:"
   ]
  },
  {
   "cell_type": "code",
   "execution_count": 168,
   "metadata": {},
   "outputs": [
    {
     "data": {
      "text/html": [
       "<div>\n",
       "<style scoped>\n",
       "    .dataframe tbody tr th:only-of-type {\n",
       "        vertical-align: middle;\n",
       "    }\n",
       "\n",
       "    .dataframe tbody tr th {\n",
       "        vertical-align: top;\n",
       "    }\n",
       "\n",
       "    .dataframe thead th {\n",
       "        text-align: right;\n",
       "    }\n",
       "</style>\n",
       "<table border=\"1\" class=\"dataframe\">\n",
       "  <thead>\n",
       "    <tr style=\"text-align: right;\">\n",
       "      <th></th>\n",
       "      <th>_id</th>\n",
       "      <th>crawl_time</th>\n",
       "      <th>created_at</th>\n",
       "      <th>like_num</th>\n",
       "      <th>repost_num</th>\n",
       "      <th>comment_num</th>\n",
       "      <th>content</th>\n",
       "      <th>origin_weibo</th>\n",
       "      <th>location_map_info</th>\n",
       "    </tr>\n",
       "  </thead>\n",
       "  <tbody>\n",
       "    <tr>\n",
       "      <th>0</th>\n",
       "      <td>IkIL376XG</td>\n",
       "      <td>1588026389</td>\n",
       "      <td>2019-12-14 13:03:02</td>\n",
       "      <td>1</td>\n",
       "      <td>0</td>\n",
       "      <td>0</td>\n",
       "      <td>#南通白癜风医院[超话]# 　孩子患上白癜风家长怎么办？家长能够仔细观察下孩子脸上的白斑是否...</td>\n",
       "      <td>NaN</td>\n",
       "      <td>NaN</td>\n",
       "    </tr>\n",
       "    <tr>\n",
       "      <th>1</th>\n",
       "      <td>IiXSzwDxU</td>\n",
       "      <td>1587921195</td>\n",
       "      <td>2019-12-02 23:52:09</td>\n",
       "      <td>1</td>\n",
       "      <td>0</td>\n",
       "      <td>0</td>\n",
       "      <td>【#中方宣布制裁美部分非政府组织# 转！必须付出代价！】日前，美方不顾中方坚决反对，执意将所...</td>\n",
       "      <td>IiUws06Cm</td>\n",
       "      <td>NaN</td>\n",
       "    </tr>\n",
       "    <tr>\n",
       "      <th>2</th>\n",
       "      <td>IiUafymhb</td>\n",
       "      <td>1587929010</td>\n",
       "      <td>2019-12-02 14:24:43</td>\n",
       "      <td>1</td>\n",
       "      <td>0</td>\n",
       "      <td>0</td>\n",
       "      <td>【愿早日康复！#贵州悬崖小学前校长患白血病#：曾牵学生走400米绝壁求学】徐良凡曾是贵州毕节...</td>\n",
       "      <td>IiTBkv9iq</td>\n",
       "      <td>NaN</td>\n",
       "    </tr>\n",
       "    <tr>\n",
       "      <th>3</th>\n",
       "      <td>IiUQEwpd7</td>\n",
       "      <td>1587999624</td>\n",
       "      <td>2019-12-02 16:09:12</td>\n",
       "      <td>2</td>\n",
       "      <td>0</td>\n",
       "      <td>0</td>\n",
       "      <td>【#中方宣布制裁美部分非政府组织# 转！必须付出代价！】日前，美方不顾中方坚决反对，执意将所...</td>\n",
       "      <td>IiUws06Cm</td>\n",
       "      <td>NaN</td>\n",
       "    </tr>\n",
       "    <tr>\n",
       "      <th>4</th>\n",
       "      <td>InjM2rDyS</td>\n",
       "      <td>1588007558</td>\n",
       "      <td>2019-12-31 14:57:42</td>\n",
       "      <td>1</td>\n",
       "      <td>0</td>\n",
       "      <td>0</td>\n",
       "      <td>【农业农村部公布2019年#农业转基因生物安全证书批准清单#】农业农村部30日公布2019年...</td>\n",
       "      <td>InbgnmGqJ</td>\n",
       "      <td>NaN</td>\n",
       "    </tr>\n",
       "  </tbody>\n",
       "</table>\n",
       "</div>"
      ],
      "text/plain": [
       "         _id  crawl_time           created_at  like_num  repost_num  \\\n",
       "0  IkIL376XG  1588026389  2019-12-14 13:03:02         1           0   \n",
       "1  IiXSzwDxU  1587921195  2019-12-02 23:52:09         1           0   \n",
       "2  IiUafymhb  1587929010  2019-12-02 14:24:43         1           0   \n",
       "3  IiUQEwpd7  1587999624  2019-12-02 16:09:12         2           0   \n",
       "4  InjM2rDyS  1588007558  2019-12-31 14:57:42         1           0   \n",
       "\n",
       "   comment_num                                            content  \\\n",
       "0            0  #南通白癜风医院[超话]# 　孩子患上白癜风家长怎么办？家长能够仔细观察下孩子脸上的白斑是否...   \n",
       "1            0  【#中方宣布制裁美部分非政府组织# 转！必须付出代价！】日前，美方不顾中方坚决反对，执意将所...   \n",
       "2            0  【愿早日康复！#贵州悬崖小学前校长患白血病#：曾牵学生走400米绝壁求学】徐良凡曾是贵州毕节...   \n",
       "3            0  【#中方宣布制裁美部分非政府组织# 转！必须付出代价！】日前，美方不顾中方坚决反对，执意将所...   \n",
       "4            0  【农业农村部公布2019年#农业转基因生物安全证书批准清单#】农业农村部30日公布2019年...   \n",
       "\n",
       "  origin_weibo location_map_info  \n",
       "0          NaN               NaN  \n",
       "1    IiUws06Cm               NaN  \n",
       "2    IiTBkv9iq               NaN  \n",
       "3    IiUws06Cm               NaN  \n",
       "4    InbgnmGqJ               NaN  "
      ]
     },
     "execution_count": 168,
     "metadata": {},
     "output_type": "execute_result"
    }
   ],
   "source": [
    "weibo_subset = weibo_df.loc[(weibo_df['like_num'] >= 1) & (weibo_df['like_num'] <= 100), :].reset_index(drop = True)\n",
    "weibo_subset = weibo_subset.loc[weibo_df['content'].apply(len) < 100, :].reset_index(drop = True)\n",
    "weibo_subset = weibo_subset.sample(n = 500, replace = False, random_state = 42).reset_index(drop = True)\n",
    "\n",
    "weibo_subset.head() # First five rows of the subset"
   ]
  },
  {
   "cell_type": "code",
   "execution_count": 169,
   "metadata": {},
   "outputs": [
    {
     "data": {
      "text/plain": [
       "(500, 9)"
      ]
     },
     "execution_count": 169,
     "metadata": {},
     "output_type": "execute_result"
    }
   ],
   "source": [
    "weibo_subset.shape # Rows and columns of the subset"
   ]
  },
  {
   "cell_type": "markdown",
   "metadata": {},
   "source": [
    "**NOTE:** Even though data is subset to only consist of 500 posts, the parts of this notebook that tokenize and use sentiment analysis on all posts in the data set still takes a while on a normal laptop/computer!"
   ]
  },
  {
   "cell_type": "markdown",
   "metadata": {},
   "source": [
    "## Tokenizing and POS-tagging\n",
    "\n",
    "`stanza` works by converting a string to a `Document` object using a NLP pipeline.\n",
    "\n",
    "**Pipeline**\n",
    "A \"pipeline\" can be understood as the different operations and functions that will be used on the text (fx tokenization, POS-tagging, name-entity recognition). To speed up the process, it can make sense to specify what operations the pipeline should include (will include all by default).\n",
    "\n",
    "**Processors**\n",
    "The different operations and functions are refered to as \"processors\": https://stanfordnlp.github.io/stanza/pipeline.html\n",
    "\n",
    "The tokenizer processor in `stanza` segments a text into \"sentences\", each containing a list of tokens/words. The sentiment processor works on a `sentence` in a text. \n",
    "\n",
    "The POS processor labels the individual words with their POS tags.\n",
    "\n"
   ]
  },
  {
   "cell_type": "markdown",
   "metadata": {},
   "source": [
    "### Tokenizing Weibo data using stanza\n",
    "\n",
    "To use `stanza` for tokenizing, first define the pipeline to include the relevant processors (here `tokenize` and `sentiment`):"
   ]
  },
  {
   "cell_type": "code",
   "execution_count": 170,
   "metadata": {},
   "outputs": [
    {
     "name": "stderr",
     "output_type": "stream",
     "text": [
      "2020-12-01 14:00:06 INFO: \"zh\" is an alias for \"zh-hans\"\n",
      "2020-12-01 14:00:06 INFO: Loading these models for language: zh-hans (Simplified_Chinese):\n",
      "=======================\n",
      "| Processor | Package |\n",
      "-----------------------\n",
      "| tokenize  | gsdsimp |\n",
      "| pos       | gsdsimp |\n",
      "=======================\n",
      "\n",
      "2020-12-01 14:00:06 INFO: Use device: cpu\n",
      "2020-12-01 14:00:06 INFO: Loading: tokenize\n",
      "2020-12-01 14:00:06 INFO: Loading: pos\n",
      "2020-12-01 14:00:09 INFO: Done loading processors!\n"
     ]
    }
   ],
   "source": [
    "nlp = stanza.Pipeline('zh', processors='tokenize,pos')"
   ]
  },
  {
   "cell_type": "markdown",
   "metadata": {},
   "source": [
    "With the pipeline defined, it is ready to be used on a string/post. Here it is used on the 21st post of the subset using `.loc[]` (index 20, because indexes start at 0)."
   ]
  },
  {
   "cell_type": "code",
   "execution_count": 183,
   "metadata": {},
   "outputs": [],
   "source": [
    "doc = nlp(weibo_subset.loc[20, 'content'])"
   ]
  },
  {
   "cell_type": "markdown",
   "metadata": {},
   "source": [
    "Because the tokenizer processor segments text into sentences, these have to be iterated over to extract all the tokens.\n",
    "\n",
    "The individual `word` objects in the sentences contains various attributes (the attributes depend on the pipeline). \n",
    "\n",
    "The attribute `word.text` contains the actual token."
   ]
  },
  {
   "cell_type": "code",
   "execution_count": 184,
   "metadata": {},
   "outputs": [
    {
     "name": "stdout",
     "output_type": "stream",
     "text": [
      "['#', '武汉', '发现', '不明', '原', '因', '肺炎', '#', '在', '四', '号', '线', '上', '戴', '着', '口罩', '要', '被', '闷死', '但', '又', '不敢', '不带']\n"
     ]
    }
   ],
   "source": [
    "tokens = []\n",
    "\n",
    "for sentence in doc.sentences:\n",
    "    for word in sentence.words:\n",
    "        tokens.append(word.text)\n",
    "\n",
    "print(tokens)"
   ]
  },
  {
   "cell_type": "markdown",
   "metadata": {},
   "source": [
    "### POS tagging\n",
    "\n",
    "The POS processor adds a POS tag as an attribute to each word in the document object.\n",
    "\n",
    "Just to demonstrate, the tokens are here printed along with their POS tag for the first post:"
   ]
  },
  {
   "cell_type": "code",
   "execution_count": 185,
   "metadata": {},
   "outputs": [
    {
     "name": "stdout",
     "output_type": "stream",
     "text": [
      "#, ADP\n",
      "武汉, PROPN\n",
      "发现, VERB\n",
      "不明, ADJ\n",
      "原, ADV\n",
      "因, ADP\n",
      "肺炎, NOUN\n",
      "#, PUNCT\n",
      "在, VERB\n",
      "四, NUM\n",
      "号, NOUN\n",
      "线, PART\n",
      "上, ADP\n",
      "戴, VERB\n",
      "着, PART\n",
      "口罩, NOUN\n",
      "要, AUX\n",
      "被, VERB\n",
      "闷死, VERB\n",
      "但, ADV\n",
      "又, ADV\n",
      "不敢, VERB\n",
      "不带, PUNCT\n"
     ]
    }
   ],
   "source": [
    "for sentence in doc.sentences:\n",
    "    for word in sentence.words:\n",
    "        print(word.text + \", \" + word.pos)"
   ]
  },
  {
   "cell_type": "markdown",
   "metadata": {},
   "source": [
    "The model is not perfect and some errors are apparent. In this example, the \"#\" is tagged as ADP (adposition)."
   ]
  },
  {
   "cell_type": "markdown",
   "metadata": {},
   "source": [
    "### Filtering tokens using POS\n",
    "\n",
    "To filter tokens based on POS, a list of POS tags can be defined to check the individual tags against, to only include specific POS tags.\n",
    "\n",
    "In the code below the previous operations are combined into a function including POS tags to check. The function the works on a single string/post:"
   ]
  },
  {
   "cell_type": "code",
   "execution_count": 186,
   "metadata": {},
   "outputs": [],
   "source": [
    "def tokenizer_custom(text):\n",
    "    doc = nlp(text)\n",
    "    \n",
    "    pos_tags = ['PROPN', 'ADJ', 'NOUN'] # Keeps proper nouns, adjectives and nouns\n",
    "    \n",
    "    tokens = []\n",
    "      \n",
    "    for sentence in doc.sentences:\n",
    "        for word in sentence.words:\n",
    "            if word.pos in pos_tags:\n",
    "                tokens.append(word.text)\n",
    "    \n",
    "    return(tokens)"
   ]
  },
  {
   "cell_type": "code",
   "execution_count": 187,
   "metadata": {},
   "outputs": [
    {
     "data": {
      "text/plain": [
       "['武汉', '不明', '肺炎', '号', '口罩']"
      ]
     },
     "execution_count": 187,
     "metadata": {},
     "output_type": "execute_result"
    }
   ],
   "source": [
    "tokenizer_custom(weibo_subset.loc[20, 'content'])"
   ]
  },
  {
   "cell_type": "markdown",
   "metadata": {},
   "source": [
    "### Adding filtered tokens as a variable/column to the data\n",
    "\n",
    "To add the filtered tokens as a variable in the data, apply the function to every post in the data using `.apply()`:"
   ]
  },
  {
   "cell_type": "code",
   "execution_count": 188,
   "metadata": {},
   "outputs": [],
   "source": [
    "weibo_subset['tokens_filtered'] = weibo_subset['content'].apply(tokenizer_custom)"
   ]
  },
  {
   "cell_type": "code",
   "execution_count": 189,
   "metadata": {},
   "outputs": [
    {
     "data": {
      "text/html": [
       "<div>\n",
       "<style scoped>\n",
       "    .dataframe tbody tr th:only-of-type {\n",
       "        vertical-align: middle;\n",
       "    }\n",
       "\n",
       "    .dataframe tbody tr th {\n",
       "        vertical-align: top;\n",
       "    }\n",
       "\n",
       "    .dataframe thead th {\n",
       "        text-align: right;\n",
       "    }\n",
       "</style>\n",
       "<table border=\"1\" class=\"dataframe\">\n",
       "  <thead>\n",
       "    <tr style=\"text-align: right;\">\n",
       "      <th></th>\n",
       "      <th>_id</th>\n",
       "      <th>crawl_time</th>\n",
       "      <th>created_at</th>\n",
       "      <th>like_num</th>\n",
       "      <th>repost_num</th>\n",
       "      <th>comment_num</th>\n",
       "      <th>content</th>\n",
       "      <th>origin_weibo</th>\n",
       "      <th>location_map_info</th>\n",
       "      <th>tokens_filtered</th>\n",
       "    </tr>\n",
       "  </thead>\n",
       "  <tbody>\n",
       "    <tr>\n",
       "      <th>0</th>\n",
       "      <td>IkIL376XG</td>\n",
       "      <td>1588026389</td>\n",
       "      <td>2019-12-14 13:03:02</td>\n",
       "      <td>1</td>\n",
       "      <td>0</td>\n",
       "      <td>0</td>\n",
       "      <td>#南通白癜风医院[超话]# 　孩子患上白癜风家长怎么办？家长能够仔细观察下孩子脸上的白斑是否...</td>\n",
       "      <td>NaN</td>\n",
       "      <td>NaN</td>\n",
       "      <td>[#南, 通白, 癜风, 医院, ], 孩子, 白癜, 风家, 家长, 观察, 孩子, 脸上...</td>\n",
       "    </tr>\n",
       "    <tr>\n",
       "      <th>1</th>\n",
       "      <td>IiXSzwDxU</td>\n",
       "      <td>1587921195</td>\n",
       "      <td>2019-12-02 23:52:09</td>\n",
       "      <td>1</td>\n",
       "      <td>0</td>\n",
       "      <td>0</td>\n",
       "      <td>【#中方宣布制裁美部分非政府组织# 转！必须付出代价！】日前，美方不顾中方坚决反对，执意将所...</td>\n",
       "      <td>IiUws06Cm</td>\n",
       "      <td>NaN</td>\n",
       "      <td>[中方, 美, 部分, 政府, 组织, 代价, 美, 中方, 香港, 人权, 民主, 法案,...</td>\n",
       "    </tr>\n",
       "    <tr>\n",
       "      <th>2</th>\n",
       "      <td>IiUafymhb</td>\n",
       "      <td>1587929010</td>\n",
       "      <td>2019-12-02 14:24:43</td>\n",
       "      <td>1</td>\n",
       "      <td>0</td>\n",
       "      <td>0</td>\n",
       "      <td>【愿早日康复！#贵州悬崖小学前校长患白血病#：曾牵学生走400米绝壁求学】徐良凡曾是贵州毕节...</td>\n",
       "      <td>IiTBkv9iq</td>\n",
       "      <td>NaN</td>\n",
       "      <td>[早日, 贵州, 悬崖, 小学, 前校, 长患, 白血, 病#, 米, 绝壁, 徐, 良凡,...</td>\n",
       "    </tr>\n",
       "    <tr>\n",
       "      <th>3</th>\n",
       "      <td>IiUQEwpd7</td>\n",
       "      <td>1587999624</td>\n",
       "      <td>2019-12-02 16:09:12</td>\n",
       "      <td>2</td>\n",
       "      <td>0</td>\n",
       "      <td>0</td>\n",
       "      <td>【#中方宣布制裁美部分非政府组织# 转！必须付出代价！】日前，美方不顾中方坚决反对，执意将所...</td>\n",
       "      <td>IiUws06Cm</td>\n",
       "      <td>NaN</td>\n",
       "      <td>[中方, 美, 部分, 政府, 组织, 代价, 美, 中方, 香港, 人权, 民主, 法案,...</td>\n",
       "    </tr>\n",
       "    <tr>\n",
       "      <th>4</th>\n",
       "      <td>InjM2rDyS</td>\n",
       "      <td>1588007558</td>\n",
       "      <td>2019-12-31 14:57:42</td>\n",
       "      <td>1</td>\n",
       "      <td>0</td>\n",
       "      <td>0</td>\n",
       "      <td>【农业农村部公布2019年#农业转基因生物安全证书批准清单#】农业农村部30日公布2019年...</td>\n",
       "      <td>InbgnmGqJ</td>\n",
       "      <td>NaN</td>\n",
       "      <td>[农业, 农村, 年, 农业, 转基, 生物, 安全, 证书, 清单, 农业, 农村, 日,...</td>\n",
       "    </tr>\n",
       "  </tbody>\n",
       "</table>\n",
       "</div>"
      ],
      "text/plain": [
       "         _id  crawl_time           created_at  like_num  repost_num  \\\n",
       "0  IkIL376XG  1588026389  2019-12-14 13:03:02         1           0   \n",
       "1  IiXSzwDxU  1587921195  2019-12-02 23:52:09         1           0   \n",
       "2  IiUafymhb  1587929010  2019-12-02 14:24:43         1           0   \n",
       "3  IiUQEwpd7  1587999624  2019-12-02 16:09:12         2           0   \n",
       "4  InjM2rDyS  1588007558  2019-12-31 14:57:42         1           0   \n",
       "\n",
       "   comment_num                                            content  \\\n",
       "0            0  #南通白癜风医院[超话]# 　孩子患上白癜风家长怎么办？家长能够仔细观察下孩子脸上的白斑是否...   \n",
       "1            0  【#中方宣布制裁美部分非政府组织# 转！必须付出代价！】日前，美方不顾中方坚决反对，执意将所...   \n",
       "2            0  【愿早日康复！#贵州悬崖小学前校长患白血病#：曾牵学生走400米绝壁求学】徐良凡曾是贵州毕节...   \n",
       "3            0  【#中方宣布制裁美部分非政府组织# 转！必须付出代价！】日前，美方不顾中方坚决反对，执意将所...   \n",
       "4            0  【农业农村部公布2019年#农业转基因生物安全证书批准清单#】农业农村部30日公布2019年...   \n",
       "\n",
       "  origin_weibo location_map_info  \\\n",
       "0          NaN               NaN   \n",
       "1    IiUws06Cm               NaN   \n",
       "2    IiTBkv9iq               NaN   \n",
       "3    IiUws06Cm               NaN   \n",
       "4    InbgnmGqJ               NaN   \n",
       "\n",
       "                                     tokens_filtered  \n",
       "0  [#南, 通白, 癜风, 医院, ], 孩子, 白癜, 风家, 家长, 观察, 孩子, 脸上...  \n",
       "1  [中方, 美, 部分, 政府, 组织, 代价, 美, 中方, 香港, 人权, 民主, 法案,...  \n",
       "2  [早日, 贵州, 悬崖, 小学, 前校, 长患, 白血, 病#, 米, 绝壁, 徐, 良凡,...  \n",
       "3  [中方, 美, 部分, 政府, 组织, 代价, 美, 中方, 香港, 人权, 民主, 法案,...  \n",
       "4  [农业, 农村, 年, 农业, 转基, 生物, 安全, 证书, 清单, 农业, 农村, 日,...  "
      ]
     },
     "execution_count": 189,
     "metadata": {},
     "output_type": "execute_result"
    }
   ],
   "source": [
    "weibo_subset.head()"
   ]
  },
  {
   "cell_type": "markdown",
   "metadata": {},
   "source": [
    "## Sentiment analysis\n",
    "\n",
    "`stanza` has a built in \"Sentimentprocessor\" for performing sentiment analysis on text.\n",
    "\n",
    "From the documentation: \"The `SentimentProcessor` adds a label for sentiment to each `Sentence`. The existing models each support negative, neutral, and positive, represented by 0, 1, 2 respectively\" (https://stanfordnlp.github.io/stanza/sentiment.html)"
   ]
  },
  {
   "cell_type": "markdown",
   "metadata": {},
   "source": [
    "To use it, first define the pipeline to include the sentiment processor (this overwrites the previous pipeline):"
   ]
  },
  {
   "cell_type": "code",
   "execution_count": 190,
   "metadata": {},
   "outputs": [
    {
     "name": "stderr",
     "output_type": "stream",
     "text": [
      "2020-12-01 14:03:22 INFO: \"zh\" is an alias for \"zh-hans\"\n",
      "2020-12-01 14:03:22 INFO: Loading these models for language: zh-hans (Simplified_Chinese):\n",
      "=======================\n",
      "| Processor | Package |\n",
      "-----------------------\n",
      "| tokenize  | gsdsimp |\n",
      "| sentiment | ren     |\n",
      "=======================\n",
      "\n",
      "2020-12-01 14:03:22 INFO: Use device: cpu\n",
      "2020-12-01 14:03:22 INFO: Loading: tokenize\n",
      "2020-12-01 14:03:22 INFO: Loading: sentiment\n",
      "2020-12-01 14:03:25 INFO: Done loading processors!\n"
     ]
    }
   ],
   "source": [
    "nlp = stanza.Pipeline('zh', processors='tokenize,sentiment')"
   ]
  },
  {
   "cell_type": "markdown",
   "metadata": {},
   "source": [
    "New pipeline being used on the first post of the subset:"
   ]
  },
  {
   "cell_type": "code",
   "execution_count": 193,
   "metadata": {},
   "outputs": [],
   "source": [
    "doc = nlp(weibo_subset.loc[30, 'content'])"
   ]
  },
  {
   "cell_type": "markdown",
   "metadata": {},
   "source": [
    "Because the processor adds a sentiment label to each sentence, one post will contain several sentiment scores:"
   ]
  },
  {
   "cell_type": "code",
   "execution_count": 194,
   "metadata": {},
   "outputs": [
    {
     "name": "stdout",
     "output_type": "stream",
     "text": [
      "温度又直逼39度[生病][允悲]药到病没除啊！, 0\n",
      "什么时候才能退烧，乖乖睡觉了，希望明天不要再烧了，整个人发抖了，一直喊冷，开了空调盖了两床被子[晕]还是冷，多少年没这样发烧了，明年十月带他接种流感疫苗去 宁波·宁波鄞州万达广场 显示地图, 2\n"
     ]
    }
   ],
   "source": [
    "for sentence in doc.sentences:\n",
    "    print(sentence.text + \", \" + str(sentence.sentiment))"
   ]
  },
  {
   "cell_type": "markdown",
   "metadata": {},
   "source": [
    "According to this stanza language model, the first sentence of this post is categorized as \"negative\" and the second sentence as positive."
   ]
  },
  {
   "cell_type": "markdown",
   "metadata": {},
   "source": [
    "To get an idea of the sentiment in a post, a function can be defined to calculate the mean sentiment of the sentences in the post/text:"
   ]
  },
  {
   "cell_type": "code",
   "execution_count": 195,
   "metadata": {},
   "outputs": [],
   "source": [
    "def mean_sentiment(text):\n",
    "    doc = nlp(text)\n",
    "    \n",
    "    mean_sentiment = np.mean([sentence.sentiment for sentence in doc.sentences])\n",
    "    \n",
    "    return(mean_sentiment)"
   ]
  },
  {
   "cell_type": "code",
   "execution_count": 196,
   "metadata": {},
   "outputs": [
    {
     "data": {
      "text/plain": [
       "1.0"
      ]
     },
     "execution_count": 196,
     "metadata": {},
     "output_type": "execute_result"
    }
   ],
   "source": [
    "mean_sentiment(weibo_subset.loc[30, 'content'])"
   ]
  },
  {
   "cell_type": "markdown",
   "metadata": {},
   "source": [
    "(Calculating the sentiment this way could be critizied. This way of calculating does fx not account for the length of sentences.)"
   ]
  },
  {
   "cell_type": "markdown",
   "metadata": {},
   "source": [
    "The function can then be used to create a `sentiment` variable using the `.apply()` method in pandas:"
   ]
  },
  {
   "cell_type": "code",
   "execution_count": 197,
   "metadata": {},
   "outputs": [],
   "source": [
    "weibo_subset['sentiment'] = weibo_subset['content'].apply(mean_sentiment)"
   ]
  },
  {
   "cell_type": "code",
   "execution_count": 198,
   "metadata": {},
   "outputs": [
    {
     "data": {
      "text/html": [
       "<div>\n",
       "<style scoped>\n",
       "    .dataframe tbody tr th:only-of-type {\n",
       "        vertical-align: middle;\n",
       "    }\n",
       "\n",
       "    .dataframe tbody tr th {\n",
       "        vertical-align: top;\n",
       "    }\n",
       "\n",
       "    .dataframe thead th {\n",
       "        text-align: right;\n",
       "    }\n",
       "</style>\n",
       "<table border=\"1\" class=\"dataframe\">\n",
       "  <thead>\n",
       "    <tr style=\"text-align: right;\">\n",
       "      <th></th>\n",
       "      <th>_id</th>\n",
       "      <th>crawl_time</th>\n",
       "      <th>created_at</th>\n",
       "      <th>like_num</th>\n",
       "      <th>repost_num</th>\n",
       "      <th>comment_num</th>\n",
       "      <th>content</th>\n",
       "      <th>origin_weibo</th>\n",
       "      <th>location_map_info</th>\n",
       "      <th>tokens_filtered</th>\n",
       "      <th>sentiment</th>\n",
       "    </tr>\n",
       "  </thead>\n",
       "  <tbody>\n",
       "    <tr>\n",
       "      <th>0</th>\n",
       "      <td>IkIL376XG</td>\n",
       "      <td>1588026389</td>\n",
       "      <td>2019-12-14 13:03:02</td>\n",
       "      <td>1</td>\n",
       "      <td>0</td>\n",
       "      <td>0</td>\n",
       "      <td>#南通白癜风医院[超话]# 　孩子患上白癜风家长怎么办？家长能够仔细观察下孩子脸上的白斑是否...</td>\n",
       "      <td>NaN</td>\n",
       "      <td>NaN</td>\n",
       "      <td>[#南, 通白, 癜风, 医院, ], 孩子, 白癜, 风家, 家长, 观察, 孩子, 脸上...</td>\n",
       "      <td>0.833333</td>\n",
       "    </tr>\n",
       "    <tr>\n",
       "      <th>1</th>\n",
       "      <td>IiXSzwDxU</td>\n",
       "      <td>1587921195</td>\n",
       "      <td>2019-12-02 23:52:09</td>\n",
       "      <td>1</td>\n",
       "      <td>0</td>\n",
       "      <td>0</td>\n",
       "      <td>【#中方宣布制裁美部分非政府组织# 转！必须付出代价！】日前，美方不顾中方坚决反对，执意将所...</td>\n",
       "      <td>IiUws06Cm</td>\n",
       "      <td>NaN</td>\n",
       "      <td>[中方, 美, 部分, 政府, 组织, 代价, 美, 中方, 香港, 人权, 民主, 法案,...</td>\n",
       "      <td>1.000000</td>\n",
       "    </tr>\n",
       "    <tr>\n",
       "      <th>2</th>\n",
       "      <td>IiUafymhb</td>\n",
       "      <td>1587929010</td>\n",
       "      <td>2019-12-02 14:24:43</td>\n",
       "      <td>1</td>\n",
       "      <td>0</td>\n",
       "      <td>0</td>\n",
       "      <td>【愿早日康复！#贵州悬崖小学前校长患白血病#：曾牵学生走400米绝壁求学】徐良凡曾是贵州毕节...</td>\n",
       "      <td>IiTBkv9iq</td>\n",
       "      <td>NaN</td>\n",
       "      <td>[早日, 贵州, 悬崖, 小学, 前校, 长患, 白血, 病#, 米, 绝壁, 徐, 良凡,...</td>\n",
       "      <td>1.333333</td>\n",
       "    </tr>\n",
       "    <tr>\n",
       "      <th>3</th>\n",
       "      <td>IiUQEwpd7</td>\n",
       "      <td>1587999624</td>\n",
       "      <td>2019-12-02 16:09:12</td>\n",
       "      <td>2</td>\n",
       "      <td>0</td>\n",
       "      <td>0</td>\n",
       "      <td>【#中方宣布制裁美部分非政府组织# 转！必须付出代价！】日前，美方不顾中方坚决反对，执意将所...</td>\n",
       "      <td>IiUws06Cm</td>\n",
       "      <td>NaN</td>\n",
       "      <td>[中方, 美, 部分, 政府, 组织, 代价, 美, 中方, 香港, 人权, 民主, 法案,...</td>\n",
       "      <td>1.000000</td>\n",
       "    </tr>\n",
       "    <tr>\n",
       "      <th>4</th>\n",
       "      <td>InjM2rDyS</td>\n",
       "      <td>1588007558</td>\n",
       "      <td>2019-12-31 14:57:42</td>\n",
       "      <td>1</td>\n",
       "      <td>0</td>\n",
       "      <td>0</td>\n",
       "      <td>【农业农村部公布2019年#农业转基因生物安全证书批准清单#】农业农村部30日公布2019年...</td>\n",
       "      <td>InbgnmGqJ</td>\n",
       "      <td>NaN</td>\n",
       "      <td>[农业, 农村, 年, 农业, 转基, 生物, 安全, 证书, 清单, 农业, 农村, 日,...</td>\n",
       "      <td>0.600000</td>\n",
       "    </tr>\n",
       "  </tbody>\n",
       "</table>\n",
       "</div>"
      ],
      "text/plain": [
       "         _id  crawl_time           created_at  like_num  repost_num  \\\n",
       "0  IkIL376XG  1588026389  2019-12-14 13:03:02         1           0   \n",
       "1  IiXSzwDxU  1587921195  2019-12-02 23:52:09         1           0   \n",
       "2  IiUafymhb  1587929010  2019-12-02 14:24:43         1           0   \n",
       "3  IiUQEwpd7  1587999624  2019-12-02 16:09:12         2           0   \n",
       "4  InjM2rDyS  1588007558  2019-12-31 14:57:42         1           0   \n",
       "\n",
       "   comment_num                                            content  \\\n",
       "0            0  #南通白癜风医院[超话]# 　孩子患上白癜风家长怎么办？家长能够仔细观察下孩子脸上的白斑是否...   \n",
       "1            0  【#中方宣布制裁美部分非政府组织# 转！必须付出代价！】日前，美方不顾中方坚决反对，执意将所...   \n",
       "2            0  【愿早日康复！#贵州悬崖小学前校长患白血病#：曾牵学生走400米绝壁求学】徐良凡曾是贵州毕节...   \n",
       "3            0  【#中方宣布制裁美部分非政府组织# 转！必须付出代价！】日前，美方不顾中方坚决反对，执意将所...   \n",
       "4            0  【农业农村部公布2019年#农业转基因生物安全证书批准清单#】农业农村部30日公布2019年...   \n",
       "\n",
       "  origin_weibo location_map_info  \\\n",
       "0          NaN               NaN   \n",
       "1    IiUws06Cm               NaN   \n",
       "2    IiTBkv9iq               NaN   \n",
       "3    IiUws06Cm               NaN   \n",
       "4    InbgnmGqJ               NaN   \n",
       "\n",
       "                                     tokens_filtered  sentiment  \n",
       "0  [#南, 通白, 癜风, 医院, ], 孩子, 白癜, 风家, 家长, 观察, 孩子, 脸上...   0.833333  \n",
       "1  [中方, 美, 部分, 政府, 组织, 代价, 美, 中方, 香港, 人权, 民主, 法案,...   1.000000  \n",
       "2  [早日, 贵州, 悬崖, 小学, 前校, 长患, 白血, 病#, 米, 绝壁, 徐, 良凡,...   1.333333  \n",
       "3  [中方, 美, 部分, 政府, 组织, 代价, 美, 中方, 香港, 人权, 民主, 法案,...   1.000000  \n",
       "4  [农业, 农村, 年, 农业, 转基, 生物, 安全, 证书, 清单, 农业, 农村, 日,...   0.600000  "
      ]
     },
     "execution_count": 198,
     "metadata": {},
     "output_type": "execute_result"
    }
   ],
   "source": [
    "weibo_subset.head()"
   ]
  },
  {
   "cell_type": "markdown",
   "metadata": {},
   "source": [
    "## Visualizing\n",
    "\n",
    "An added benefit of pandas dataframes is that it is relatively easy to visualize. \n",
    "\n",
    "In the code below, `seaborn` is used to create a scatterplot of the posts on a data axis and number of likes axis, coloured by sentiment (only on the subset of 500 posts, however):"
   ]
  },
  {
   "cell_type": "code",
   "execution_count": 199,
   "metadata": {},
   "outputs": [],
   "source": [
    "weibo_subset['created_at'] = pd.to_datetime(weibo_subset['created_at']) # This code converts the variable/column to a date variable/column"
   ]
  },
  {
   "cell_type": "markdown",
   "metadata": {},
   "source": [
    "To make the scatterplot easier to read, only posts with less that 50 likes are kept:"
   ]
  },
  {
   "cell_type": "code",
   "execution_count": 202,
   "metadata": {},
   "outputs": [],
   "source": [
    "weibo_subset_filtered = weibo_subset.loc[weibo_subset['like_num'] < 50, :]"
   ]
  },
  {
   "cell_type": "code",
   "execution_count": 203,
   "metadata": {},
   "outputs": [
    {
     "data": {
      "text/plain": [
       "<AxesSubplot:xlabel='created_at', ylabel='like_num'>"
      ]
     },
     "execution_count": 203,
     "metadata": {},
     "output_type": "execute_result"
    },
    {
     "data": {
      "image/png": "[encoded data removed]",
      "text/plain": [
       "<Figure size 720x432 with 1 Axes>"
      ]
     },
     "metadata": {},
     "output_type": "display_data"
    }
   ],
   "source": [
    "sns.set(rc={'figure.figsize':(10,6)}) # This line defines the default size of plots when printed in a notebook\n",
    "\n",
    "sns.scatterplot(data = weibo_subset_filtered, x = 'created_at', y = 'like_num', hue = 'sentiment')"
   ]
  },
  {
   "cell_type": "markdown",
   "metadata": {},
   "source": [
    "### Summarizing by dates or weeks\n",
    "\n",
    "An interesting feature of working with dates and pandas is that it is easy to summarize data by month, week, year or so on.\n",
    "\n",
    "In the code below, a column is created to reflect the week number the post was posted. The data is then grouped by the week (meaning data is split into groups based on the individual week values). Based on the grouped data, the mean sentiment score is calculated on a weekly basis."
   ]
  },
  {
   "cell_type": "code",
   "execution_count": 205,
   "metadata": {},
   "outputs": [
    {
     "data": {
      "text/plain": [
       "post_week\n",
       "1     1.141357\n",
       "48    1.315360\n",
       "49    1.210541\n",
       "50    1.595551\n",
       "51    1.355976\n",
       "52    1.338646\n",
       "Name: sentiment, dtype: float64"
      ]
     },
     "execution_count": 205,
     "metadata": {},
     "output_type": "execute_result"
    }
   ],
   "source": [
    "weibo_subset['post_week'] = weibo_subset['created_at'].dt.isocalendar().week\n",
    "\n",
    "weibo_grouped = weibo_subset.groupby('post_week')\n",
    "\n",
    "weibo_grouped['sentiment'].mean()"
   ]
  },
  {
   "cell_type": "markdown",
   "metadata": {},
   "source": [
    "The same can be done with dates (here visualized):"
   ]
  },
  {
   "cell_type": "code",
   "execution_count": 211,
   "metadata": {},
   "outputs": [
    {
     "data": {
      "text/plain": [
       "<AxesSubplot:xlabel='post_date', ylabel='sentiment'>"
      ]
     },
     "execution_count": 211,
     "metadata": {},
     "output_type": "execute_result"
    },
    {
     "data": {
      "image/png": "[encoded data removed]",
      "text/plain": [
       "<Figure size 720x432 with 1 Axes>"
      ]
     },
     "metadata": {},
     "output_type": "display_data"
    }
   ],
   "source": [
    "weibo_subset['post_date'] = weibo_subset['created_at'].dt.date\n",
    "weibo_grouped_dates = weibo_subset.groupby('post_date')\n",
    "weibo_date_sent = weibo_grouped_dates['sentiment'].mean().reset_index()\n",
    "\n",
    "sns.lineplot(data = weibo_date_sent, x = \"post_date\", y = \"sentiment\")"
   ]
  }
 ],
 "metadata": {
  "kernelspec": {
   "display_name": "Python 3",
   "language": "python",
   "name": "python3"
  },
  "language_info": {
   "codemirror_mode": {
    "name": "ipython",
    "version": 3
   },
   "file_extension": ".py",
   "mimetype": "text/x-python",
   "name": "python",
   "nbconvert_exporter": "python",
   "pygments_lexer": "ipython3",
   "version": "3.7.9"
  }
 },
 "nbformat": 4,
 "nbformat_minor": 4
}
